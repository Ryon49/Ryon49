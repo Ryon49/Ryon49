{
 "cells": [
  {
   "cell_type": "markdown",
   "id": "43b7d466",
   "metadata": {
    "id": "43b7d466"
   },
   "source": [
    "# <center> CS 178: Machine Learning &amp; Data Mining </center>\n",
    "## <center> Homework 3: Due Tuesday 8 November 2022 (11:59pm) </center>\n",
    "### <center> Version 1.0 (Last Modified: 29 October 2022) </center>"
   ]
  },
  {
   "cell_type": "markdown",
   "id": "a0921f03",
   "metadata": {
    "id": "a0921f03"
   },
   "source": [
    "---\n",
    "## Instructions\n",
    "\n",
    "\n",
    "This homework (and many subsequent ones) will involve data analysis and reporting on methods and results\n",
    "using Python code. You will submit a **single PDF file** that contains everything to Gradescope. This includes any text you wish to include to describe your results, the complete code snippets of how you attempted each problem, any figures that were generated, and scans of any work on paper that you wish to include. It is important that you include enough detail that we know how you solved the problem, since otherwise we will be unable to grade it.\n",
    "\n",
    "\n",
    "Your homeworks will be given to you as Jupyter notebooks containing the problem descriptions and some template code that will help you get started. You are encouraged to use these starter Jupyter notebooks to complete your assignment and to write your report. This will help you not only ensure that all of the code for the solutions is included, but also will provide an easy way to export your results to a PDF file (for example, doing *print preview* and *printing to pdf*). I recommend liberal use of Markdown cells to create headers for each problem and sub-problem, explaining your implementation/answers, and including any mathematical equations. For parts of the homework you do on paper, scan it in such that it is legible (there are a number of free Android/iOS scanning apps, if you do not have access to a scanner), and include it as an image in the Jupyter notebook.\n",
    "\n",
    "If you have any questions/concerns about using Jupyter notebooks, ask us on EdD. If you decide not to use Jupyter notebooks, but go with Microsoft Word or Latex to create your PDF file, make sure that all of the answers can be generated from the code snippets included in the document.\n",
    "\n",
    "### Summary of Assignment: 100 total points\n",
    "- Problem 1: A Small Neural Network (30 points)\n",
    "    - Problem 1.1: Forward Pass (10 points)\n",
    "    - Problem 1.2: Evaluate Loss (10 points)\n",
    "    - Problem 1.3: Network Size (10 points)\n",
    "- Problem 2: Neural Networks in Code (65 points)\n",
    "    - Problem 2.1: Setting up Data (5 points)\n",
    "    - Problem 2.2: Vary Amount of Data (20 points)\n",
    "    - Problem 2.3: Learning Curves (10 points)\n",
    "    - Problem 2.3: Tuning your Neural Network (30 points)\n",
    "- Statement of Collaboration (5 points)"
   ]
  },
  {
   "cell_type": "markdown",
   "id": "648cdb14",
   "metadata": {
    "id": "648cdb14"
   },
   "source": [
    "Before we get started, let's import some libraries that you will make use of in this assignment. Make sure that you run the code cell below in order to import these libraries.\n",
    "\n",
    "**Important: In the code block below, we set `seed=1234`. This is to ensure your code has reproducible results and is important for grading. Do not change this. If you are not using the provided Jupyter notebook, make sure to also set the random seed as below.**"
   ]
  },
  {
   "cell_type": "code",
   "execution_count": 1,
   "id": "f788ad34",
   "metadata": {
    "executionInfo": {
     "elapsed": 523,
     "status": "ok",
     "timestamp": 1667468557695,
     "user": {
      "displayName": "Ryan Dong",
      "userId": "17609838347163999970"
     },
     "user_tz": 420
    },
    "id": "f788ad34"
   },
   "outputs": [],
   "source": [
    "import numpy as np\n",
    "import matplotlib.pyplot as plt\n",
    "\n",
    "from sklearn.datasets import fetch_openml\n",
    "from sklearn.model_selection import train_test_split\n",
    "from sklearn.preprocessing import StandardScaler\n",
    "from sklearn.metrics import accuracy_score\n",
    "\n",
    "from sklearn.linear_model import LogisticRegression\n",
    "from sklearn.neural_network import MLPClassifier\n",
    "\n",
    "import warnings\n",
    "warnings.filterwarnings('ignore')\n",
    "\n",
    "# Fix the random seed for reproducibility\n",
    "# !! Important !! : do not change this\n",
    "seed = 1234\n",
    "np.random.seed(seed)  "
   ]
  },
  {
   "cell_type": "markdown",
   "id": "64b35375",
   "metadata": {
    "id": "64b35375"
   },
   "source": [
    "---\n",
    "## Problem 1: A Small Neural Network\n",
    "\n",
    "\n",
    "Consider the small neural network given in the image below, which will classify a 3-dimensional feature vector $\\mathbf{x}$ into one of three classes ($y = 0, 1, 2$). You are given an input to this network $\\mathbf{x}$, as well as weights $W$ for the hidden layer and weights $B$ for the output layer. For example, $w_{12}$ is the weight connecting input $x_1$ to hidden unit $h_2$. This network uses the ReLU activation function for the hidden layer, and uses the softmax activation function for the output layer. \n",
    "\n",
    "<img src=\"hw3_nn.png\" width=500 height=400 />"
   ]
  },
  {
   "cell_type": "markdown",
   "id": "983c2b29",
   "metadata": {
    "id": "983c2b29"
   },
   "source": [
    "$$\n",
    "\\mathbf{x} = \\begin{bmatrix} x_1 \\\\ x_2 \\\\ x_3 \\end{bmatrix} = \\begin{bmatrix} 1 \\\\ 3 \\\\ -2 \\end{bmatrix}\n",
    "$$\n",
    "\n",
    "$$\n",
    "W = \\begin{bmatrix} \n",
    "    w_{01} & w_{11} & w_{21} & w_{31} \\\\ \n",
    "    w_{02} & w_{12} & w_{22} & w_{32} \\\\\n",
    "    \\end{bmatrix} =\n",
    "    \\begin{bmatrix} \n",
    "    1 & -1 & 0 & 6 \\\\ \n",
    "    2 & 1 & 1 & 3 \\\\\n",
    "    \\end{bmatrix}\n",
    "$$\n",
    "\n",
    "$$\n",
    "B = \\begin{bmatrix} \n",
    "    \\beta_{01} & \\beta_{11} & \\beta_{21} \\\\\n",
    "    \\beta_{02} & \\beta_{12} & \\beta_{22} \\\\\n",
    "    \\beta_{03} & \\beta_{13} & \\beta_{23} \\\\\n",
    "    \\end{bmatrix} =\n",
    "    \\begin{bmatrix}\n",
    "    6 & -1 & 0 \\\\\n",
    "    5 & 0 & 2 \\\\\n",
    "    2 & 1 & 1\n",
    "    \\end{bmatrix}\n",
    "$$"
   ]
  },
  {
   "cell_type": "markdown",
   "id": "1690ac61",
   "metadata": {
    "id": "1690ac61"
   },
   "source": [
    "### Problem 1.1 (10 points): Forward Pass\n",
    "- Given the inputs and weights above, compute the values of the hidden units $h_1, h_2$ and the outputs $f_1, f_2, f_2$. You should do this by hand, i.e. you should not write any code to do the calculation, but feel free to use a calculator to help you do the computations.\n",
    "    - You can optionally use $\\LaTeX$ in your answer on the Jupyter notebook. Otherwise, write your answer on paper and include a picture of your answer in this notebook. In order to include an image in Jupyter notebook, save the image in the same directory as the .ipynb file and then write `![caption](image.png)`. Alternatively, you may go to Edit --> Insert Image at the top menu to insert an image into a Markdown cell. **Double check that your image is visible in your PDF submission.**\n",
    "- What class would the network predict for the input $\\mathbf{x}$?"
   ]
  },
  {
   "cell_type": "markdown",
   "id": "3a57f588",
   "metadata": {
    "id": "3a57f588"
   },
   "source": [
    "\n",
    "$\n",
    "h_1 = w_0 \\cdot x = 1 * 1 + 3 * -1 + -2 * 0 + 1 * 6 = 1 - 3 + 0 + 6 = 4 \\\\\n",
    "h_2 = w_1 \\cdot x = 1 * 2 + 3 * 1 + -2 * 1 + 1 * 3 = 2 + 3 - 2 + 3 = 6 \\\\\n",
    "$ \n",
    "\n",
    "$\n",
    "f_1 = \\beta_0 \\cdot h = 4 * 6 + 6 * -1 + 1 * 0 = 24 - 6 + 0 = 18 \\\\ \n",
    "f_2 = \\beta_1 \\cdot h = 4 * 5 + 6 * 5 + 1 * 2 = 20 + 0 + 2 = 22 \\\\ \n",
    "f_3 = \\beta_2 \\cdot h = 4 * 2 + 6 * 1 + 1 * 1 = 8 + 6 + 1 = 15 $\n",
    "\n",
    "$\n",
    "softmax([18, 22, 15]) = [0.018, 0.981, 0.001]\\\\\n",
    "p(y=0) = 0.018  \\\\\n",
    "p(y=1) = 0.981  \\\\\n",
    "p(y=2) = 0.001  \\\\\n",
    "$\n",
    "\n",
    "The network will predict y = 1"
   ]
  },
  {
   "cell_type": "markdown",
   "id": "8c0ebbc6",
   "metadata": {
    "id": "8c0ebbc6"
   },
   "source": [
    "### Problem 1.2 (10 points): Evaluate Loss\n",
    "Typically when we train neural networks for classification, we seek to minimize the log-loss function. Note that the output of the log-loss function is always greater than zero, but can be arbitrarily large (you should pause for a second and make sure you understand why this is true).\n",
    "\n",
    "- Suppose the true label for the input $\\mathbf{x}$ is $y = 1$. What would be the value of our loss function based on the network's prediction for $\\mathbf{x}$?\n",
    "- Suppose instead that the true label for the input $\\mathbf{x}$ is $y = 2$. What would be the value of our loss function based on the network's prediction for $\\mathbf{x}$?\n",
    "\n",
    "You are free to use numpy / Python to help you calculate this, but don't use any neural network libraries that will automatically calculate the loss for you."
   ]
  },
  {
   "cell_type": "code",
   "execution_count": 2,
   "id": "fc9de3ef",
   "metadata": {
    "colab": {
     "base_uri": "https://localhost:8080/"
    },
    "executionInfo": {
     "elapsed": 8,
     "status": "ok",
     "timestamp": 1667468557696,
     "user": {
      "displayName": "Ryan Dong",
      "userId": "17609838347163999970"
     },
     "user_tz": 420
    },
    "id": "fc9de3ef",
    "outputId": "5dbfb41e-a0b9-4db0-8aa1-a6183f5f0a01"
   },
   "outputs": [
    {
     "name": "stdout",
     "output_type": "stream",
     "text": [
      "Probability of p(y = y_i) is [0.018 0.981 0.001]\n",
      "Loss when y = 1 is 0.01904500787925745\n",
      "Loss when y = 2 is 7.0190450078792574\n"
     ]
    }
   ],
   "source": [
    "def softmax(x):\n",
    "    \"\"\"Compute softmax values for each sets of scores in x.\"\"\"\n",
    "    e_x = np.exp(x - np.max(x))\n",
    "    return e_x / e_x.sum()\n",
    "np.set_printoptions(formatter={'float': lambda x: \"{0:0.3f}\".format(x)})\n",
    "\n",
    "f = [18, 22, 15]\n",
    "p = softmax(f)\n",
    "print(\"Probability of p(y = y_i) is\", p)\n",
    "\n",
    "print(\"Loss when y = 1 is\", -np.log(p[1]))\n",
    "print(\"Loss when y = 2 is\", -np.log(p[2]))"
   ]
  },
  {
   "cell_type": "markdown",
   "id": "2727cb1d",
   "metadata": {
    "id": "2727cb1d"
   },
   "source": [
    "### Problem 1.3 (10 points): Network Size\n",
    "- Suppose we change our network so that there are $12$ hidden units instead of $2$. How many total weights and biases would there be in our new network?"
   ]
  },
  {
   "cell_type": "code",
   "execution_count": 3,
   "id": "4b93f5f8",
   "metadata": {
    "colab": {
     "base_uri": "https://localhost:8080/"
    },
    "executionInfo": {
     "elapsed": 7,
     "status": "ok",
     "timestamp": 1667468557696,
     "user": {
      "displayName": "Ryan Dong",
      "userId": "17609838347163999970"
     },
     "user_tz": 420
    },
    "id": "4b93f5f8",
    "outputId": "1a0e6e45-46fd-4b12-947b-d34c714c83b4"
   },
   "outputs": [
    {
     "name": "stdout",
     "output_type": "stream",
     "text": [
      "Number of weight for hidden layer = 36\n",
      "Number of weight for output layer = 36\n",
      "Total number of weights for a 12 hidden unit NN = 72\n",
      "Total number of bias = 15\n"
     ]
    }
   ],
   "source": [
    "N = 3   # number of features\n",
    "h_w = 3 * 12 # (features + bias term) * number of hidden unit\n",
    "print(\"Number of weight for hidden layer =\", h_w)\n",
    "\n",
    "f_w = 12 * 3 # (number of hidden unit + bias term) * number of classes\n",
    "print(\"Number of weight for output layer =\", f_w)\n",
    "\n",
    "print(\"Total number of weights for a 12 hidden unit NN =\", h_w + f_w)\n",
    "print(\"Total number of bias =\", 12 + 3)"
   ]
  },
  {
   "cell_type": "markdown",
   "id": "4171e63c",
   "metadata": {
    "id": "4171e63c"
   },
   "source": [
    "---\n",
    "## Problem 2: Neural Networks in Code\n",
    "\n",
    "In the second problem of this assignment, you will get some hands-on experience working with neural networks. We will be using the scikit-learn implementation of a multi-layer perceptron (MLP). See [here](https://scikit-learn.org/stable/modules/generated/sklearn.neural_network.MLPClassifier.html) for the corresponding documentation. Although there are specialized Python libraries for neural networks, like [TensorFlow](https://www.tensorflow.org/) and [PyTorch](https://pytorch.org/), we'll stick with scikit-learn as you're already familiar with this library.\n",
    "\n",
    "In this problem, we'll be working with the MNIST dataset, which we already saw in Homework 1. As a reminder, this is an image classification dataset, where each image is a hand-written digit. Take a look at Homework 1 to remind yourself what this dataset looks like."
   ]
  },
  {
   "cell_type": "markdown",
   "id": "255eec9d",
   "metadata": {
    "id": "255eec9d"
   },
   "source": [
    "### Problem 2.1: Setting up the data (5 points)\n",
    "\n",
    "First, we'll load our dataset and split it into a training set and a testing set. You are already given code that does this for you, and you only need to run it.\n",
    "\n",
    "- Use the scikit-learn class `StandardScaler` to standardize both the training and testing features. Remember that you should only fit the `StandardScaler` on the training data, and *not* the testing data."
   ]
  },
  {
   "cell_type": "code",
   "execution_count": 4,
   "id": "12bfa33b",
   "metadata": {
    "executionInfo": {
     "elapsed": 46781,
     "status": "ok",
     "timestamp": 1667468604474,
     "user": {
      "displayName": "Ryan Dong",
      "userId": "17609838347163999970"
     },
     "user_tz": 420
    },
    "id": "12bfa33b"
   },
   "outputs": [],
   "source": [
    "# Load the features and labels for the MNIST dataset\n",
    "# This might take a minute to download the images.\n",
    "X, y = fetch_openml('mnist_784', as_frame=False, return_X_y=True)\n",
    "\n",
    "# Convert labels to integer data type\n",
    "y = y.astype(int)"
   ]
  },
  {
   "cell_type": "code",
   "execution_count": 5,
   "id": "fcf273ff",
   "metadata": {
    "executionInfo": {
     "elapsed": 444,
     "status": "ok",
     "timestamp": 1667468604899,
     "user": {
      "displayName": "Ryan Dong",
      "userId": "17609838347163999970"
     },
     "user_tz": 420
    },
    "id": "fcf273ff"
   },
   "outputs": [],
   "source": [
    "X_tr, X_te, y_tr, y_te = train_test_split(X, y, test_size=0.1, \n",
    "                                          random_state=seed, shuffle=True)"
   ]
  },
  {
   "cell_type": "code",
   "execution_count": 6,
   "id": "27acc228",
   "metadata": {
    "executionInfo": {
     "elapsed": 914,
     "status": "ok",
     "timestamp": 1667468605811,
     "user": {
      "displayName": "Ryan Dong",
      "userId": "17609838347163999970"
     },
     "user_tz": 420
    },
    "id": "27acc228"
   },
   "outputs": [],
   "source": [
    "scaler = StandardScaler().fit(X_tr)\n",
    "X_tr, X_te = scaler.transform(X_tr), scaler.transform(X_te)"
   ]
  },
  {
   "cell_type": "markdown",
   "id": "3ea1765b",
   "metadata": {
    "id": "3ea1765b"
   },
   "source": [
    "### Problem 2.2: Varying the amount of training data (20 points)\n",
    "One reason that neural networks have become popular in recent years is that, for many problems, we now have access to very large datasets. Since neural networks are very flexible models, they are often able to take advantage of these large datasets in order to achieve high levels of accuracy. In this problem, you will vary the amount of training data available to a neural network and see what effect this has on the model's performance.\n",
    "\n",
    "In this problem, you should use the following settings for your network:\n",
    "- A single hidden layer with $64$ hidden nodes\n",
    "- Use the ReLU activation function\n",
    "- Train the network using stochastic gradient descent (SGD) and a learning rate of $0.001$\n",
    "- Use a batch size of 256\n",
    "- **Make sure to set `random_state=seed`.**\n",
    "\n",
    "Your task is to implement the following:\n",
    "- Train an MLP model (with the above hyperparameter settings) using the first `n_tr` feature vectors in `X_tr`, where `n_tr = [100, 1000, 5000, 10000, 20000, 50000, 63000]`. You should use the `MLPClassifier` class from scikit-learn in your implementation.\n",
    "- Train a logistic regression classifier (with the default settings in sklearn) using the first `n_tr` feature vectors in `X_tr`, where `n_tr = [100, 1000, 5000, 10000, 20000, 50000, 63000]` .You should use the `LogisticRegression` class from scikit-learn in your implementation. **Make sure to use the argument `random_state=seed` for reproducibility.**\n",
    "- Create a plot of the training error and testing error for both the logistic regression and MLP models as a function of the number of training data points. Be sure to include an x-label, y-label, and legend in your plot. Use a log-scale on the x-axis. Give a short (one or two sentences) description of what you see in your plot.\n",
    "\n",
    "Note that training a neural network with a lot of data can be a slow process. Hence, you should be careful to implement your code such that it runs in a reasonable amount of time. One recommendation is to test your code using only a small subset of the given `n_tr` values, and only run your code with all of the `n_tr` values given once you are certain your code is working."
   ]
  },
  {
   "cell_type": "code",
   "execution_count": 7,
   "id": "cb088c0c",
   "metadata": {
    "executionInfo": {
     "elapsed": 853297,
     "status": "ok",
     "timestamp": 1667469459106,
     "user": {
      "displayName": "Ryan Dong",
      "userId": "17609838347163999970"
     },
     "user_tz": 420
    },
    "id": "cb088c0c"
   },
   "outputs": [],
   "source": [
    "n_tr = [100, 1000, 5000, 10000, 20000, 50000, 63000]\n",
    "\n",
    "mlp_train_error = []\n",
    "mlp_test_error = []\n",
    "logistic_train_error = []\n",
    "logistic_test_error = []\n",
    "\n",
    "for n in n_tr:\n",
    "    # train both models\n",
    "    mlp = MLPClassifier(hidden_layer_sizes=(64,), activation=\"relu\", \n",
    "                        solver=\"sgd\", learning_rate_init=0.001, \n",
    "                        batch_size=256, \n",
    "                        random_state=seed).fit(X_tr[:n], y_tr[:n])\n",
    "    logistic = LogisticRegression().fit(X_tr[:n], y_tr[:n])\n",
    "\n",
    "    mlp_train_error.append(\n",
    "        1 - accuracy_score(y_tr, mlp.predict(X_tr)))\n",
    "    mlp_test_error.append(\n",
    "        1 - accuracy_score(y_te, mlp.predict(X_te)))\n",
    "\n",
    "    logistic_train_error.append(\n",
    "        1 - accuracy_score(y_tr, logistic.predict(X_tr)))\n",
    "    logistic_test_error.append(\n",
    "        1 - accuracy_score(y_te, logistic.predict(X_te)))\n"
   ]
  },
  {
   "cell_type": "code",
   "execution_count": 8,
   "id": "2167a3d8",
   "metadata": {
    "colab": {
     "base_uri": "https://localhost:8080/",
     "height": 669
    },
    "executionInfo": {
     "elapsed": 1400,
     "status": "ok",
     "timestamp": 1667469460458,
     "user": {
      "displayName": "Ryan Dong",
      "userId": "17609838347163999970"
     },
     "user_tz": 420
    },
    "id": "2167a3d8",
    "outputId": "844907f7-8e2e-4547-fdc7-6ac1ad0a9b9f"
   },
   "outputs": [
    {
     "data": {
      "text/plain": [
       "Text(0.5, 1.0, 'Error rate on testing data')"
      ]
     },
     "execution_count": 8,
     "metadata": {},
     "output_type": "execute_result"
    },
    {
     "data": {
      "image/png": "[encoded data removed]",
      "text/plain": [
       "<Figure size 1332x756 with 2 Axes>"
      ]
     },
     "metadata": {
      "needs_background": "light"
     },
     "output_type": "display_data"
    }
   ],
   "source": [
    "fig = plt.figure()\n",
    "fig.set_size_inches(18.5, 10.5)\n",
    "ax = fig.add_subplot(2, 1, 1)\n",
    "\n",
    "ax.plot(n_tr, mlp_train_error, linestyle='dashed', marker='o', \n",
    "        color=\"red\", label=\"multi-layer perceptron\")\n",
    "ax.plot(n_tr, logistic_train_error, linestyle='dashed', marker='o', \n",
    "        color=\"blue\", label=\"Logistic regression\")\n",
    "ax.set_xscale('log')\n",
    "ax.legend()\n",
    "plt.xlabel(\"Number of data points\")\n",
    "plt.ylabel(\"Error rate\")\n",
    "ax.set_title(\"Error rate on training data\")\n",
    "\n",
    "ax = fig.add_subplot(2, 1, 2)\n",
    "ax.plot(n_tr, mlp_test_error, linestyle='dashed', marker='x', \n",
    "        color=\"red\", label=\"multi-layer perceptron\")\n",
    "ax.plot(n_tr, logistic_test_error, linestyle='dashed', marker='x', \n",
    "        color=\"blue\", label=\"Logistic regression\")\n",
    "ax.set_xscale('log')\n",
    "ax.legend()\n",
    "plt.xlabel(\"Number of data points\")\n",
    "plt.ylabel(\"Error rate\")\n",
    "ax.set_title(\"Error rate on testing data\")"
   ]
  },
  {
   "cell_type": "markdown",
   "id": "706bb579",
   "metadata": {
    "id": "706bb579"
   },
   "source": [
    "In general, multi-layer perceptron performs worse than logistic regression when number of data points is small and better when number of data points is big"
   ]
  },
  {
   "cell_type": "markdown",
   "id": "dd3686b8",
   "metadata": {
    "id": "dd3686b8"
   },
   "source": [
    "---\n",
    "### Problem 2.3: Learning Curves (10 points)\n",
    "\n",
    "One hyperparameter that can have a significant effect on the performance of your model is the learning rate, which controls the step size in (stochastic) gradient descent. In this problem you will vary the learning rate to see what effect this has on how quickly training converges as well as the effect on the performance of your model.\n",
    "\n",
    "In this problem, you should use the following settings for your network:\n",
    "- A single hidden layer with $64$ hidden nodes\n",
    "- Use the ReLU activation function\n",
    "- Train the network using stochastic gradient descent (SGD)\n",
    "- Set `n_iter_no_change=100` and `max_iter=100`. This ensures that all of your networks in this problem will train for 100 epochs (an *epoch* is one full pass over the training data).\n",
    "- Use a batch size of 256\n",
    "- **Make sure to set `random_state=seed`.**\n",
    "\n",
    "Your task is to:\n",
    "- Train a neural network with the above settings, but vary the learning rate in `lr = [0.0005, 0.001, 0.005, 0.01]`.\n",
    "- Create a plot showing the loss on the training set as a function of the training epoch (i.e. the x-axis corresponds to training iterations) for each learning rate above. You should have a single plot with four curves. Make sure to include an x-label, a y-label, and a legend in your plot. (Hint: `MLPClassifier` has an attribute `loss_curve_` that you likely find useful.)\n",
    "- Include a short description of what you see in your plot."
   ]
  },
  {
   "cell_type": "markdown",
   "id": "0d4fa254",
   "metadata": {
    "id": "0d4fa254"
   },
   "source": [
    "**Important: To make your code run faster, you should train all of your networks in this problem on only the first 10,000 images of `X_tr`**. In the following cell, you are provided a few lines of code that will create a small training set (with the first 10,000 images in `X_tr`) and a validation set (with the second 10,000 images in `X_tr`). You will use the validation later in Problem 2.4. "
   ]
  },
  {
   "cell_type": "code",
   "execution_count": 9,
   "id": "49ad6062",
   "metadata": {
    "executionInfo": {
     "elapsed": 7,
     "status": "ok",
     "timestamp": 1667469460459,
     "user": {
      "displayName": "Ryan Dong",
      "userId": "17609838347163999970"
     },
     "user_tz": 420
    },
    "id": "49ad6062"
   },
   "outputs": [],
   "source": [
    "# Create validation sets from the second 10k images in X_tr\n",
    "X_val = X_tr[10000:20000]\n",
    "y_val = y_tr[10000:20000]\n",
    "\n",
    "# Create a smaller training set with the first 10k images in X_tr\n",
    "X_tr = X_tr[:10000]\n",
    "y_tr = y_tr[:10000]"
   ]
  },
  {
   "cell_type": "code",
   "execution_count": 10,
   "id": "13b9cdcd",
   "metadata": {
    "executionInfo": {
     "elapsed": 113995,
     "status": "ok",
     "timestamp": 1667469574447,
     "user": {
      "displayName": "Ryan Dong",
      "userId": "17609838347163999970"
     },
     "user_tz": 420
    },
    "id": "13b9cdcd"
   },
   "outputs": [],
   "source": [
    "lrs = [0.0005, 0.001, 0.005, 0.01]\n",
    "\n",
    "mlp0 = MLPClassifier(hidden_layer_sizes=(64,), activation=\"relu\", \n",
    "                     solver=\"sgd\", learning_rate_init=lrs[0], \n",
    "                     batch_size=256, random_state=seed, \n",
    "                     n_iter_no_change=100, max_iter=100).fit(X_tr, y_tr)\n",
    "mlp1 = MLPClassifier(hidden_layer_sizes=(64,), activation=\"relu\", \n",
    "                     solver=\"sgd\", learning_rate_init=lrs[1], \n",
    "                     batch_size=256, random_state=seed, \n",
    "                     n_iter_no_change=100, max_iter=100).fit(X_tr, y_tr)\n",
    "mlp2 = MLPClassifier(hidden_layer_sizes=(64,), activation=\"relu\", \n",
    "                     solver=\"sgd\", learning_rate_init=lrs[2], \n",
    "                     batch_size=256, random_state=seed, \n",
    "                     n_iter_no_change=100, max_iter=100).fit(X_tr, y_tr)\n",
    "mlp3 = MLPClassifier(hidden_layer_sizes=(64,), activation=\"relu\", \n",
    "                     solver=\"sgd\", learning_rate_init=lrs[3], \n",
    "                     batch_size=256, random_state=seed, \n",
    "                     n_iter_no_change=100, max_iter=100).fit(X_tr, y_tr)"
   ]
  },
  {
   "cell_type": "code",
   "execution_count": 11,
   "id": "KB9js7mGvcPw",
   "metadata": {
    "colab": {
     "base_uri": "https://localhost:8080/",
     "height": 338
    },
    "executionInfo": {
     "elapsed": 350,
     "status": "ok",
     "timestamp": 1667469574728,
     "user": {
      "displayName": "Ryan Dong",
      "userId": "17609838347163999970"
     },
     "user_tz": 420
    },
    "id": "KB9js7mGvcPw",
    "outputId": "098b0ec1-7350-4ac3-a3da-142e5a7d5271"
   },
   "outputs": [
    {
     "data": {
      "text/plain": [
       "<matplotlib.legend.Legend at 0x7fed2dd95c50>"
      ]
     },
     "execution_count": 11,
     "metadata": {},
     "output_type": "execute_result"
    },
    {
     "data": {
      "image/png": "[encoded data removed]",
      "text/plain": [
       "<Figure size 1332x756 with 1 Axes>"
      ]
     },
     "metadata": {
      "needs_background": "light"
     },
     "output_type": "display_data"
    }
   ],
   "source": [
    "fig = plt.figure()\n",
    "fig.set_size_inches(18.5, 10.5)\n",
    "\n",
    "ax = fig.add_subplot(2, 1, 1)\n",
    "ax.plot(np.arange(100), mlp0.loss_curve_, linestyle='dashed', \n",
    "        color=\"red\", label=str(lrs[0]))\n",
    "ax.plot(np.arange(100), mlp1.loss_curve_, linestyle='dashed', \n",
    "        color=\"blue\", label=str(lrs[1]))\n",
    "ax.plot(np.arange(100), mlp2.loss_curve_, linestyle='solid', \n",
    "        color=\"red\", label=str(lrs[2]))\n",
    "ax.plot(np.arange(100), mlp3.loss_curve_, linestyle='solid', \n",
    "        color=\"blue\", label=str(lrs[3]))\n",
    "plt.xlabel(\"Number of iterations\")\n",
    "plt.ylabel(\"Loss\")\n",
    "ax.legend()"
   ]
  },
  {
   "cell_type": "markdown",
   "id": "3ae6d6ae",
   "metadata": {
    "id": "3ae6d6ae"
   },
   "source": [
    "### Problem 2.4: Tuning a Neural Network (30 points)\n",
    "\n",
    "As you saw in Problem 2.2, there are many hyperparameters of a neural network that can possibly be tuned in order to try to maximize the accuracy of your model. For the final problem of this assignment, it is your job to tune these hyperparameters.\n",
    "\n",
    "For example, some hyperparameters you might choose to tune are:\n",
    "- Learning rate\n",
    "- Depth/width\n",
    "- Regularization strength\n",
    "- Activation functions\n",
    "- Batch size\n",
    "- etc.\n",
    "\n",
    "To do this, you should train a network on the training data `X_tr` and evaluate its performance on the validation set `X_val` -- your goal is to achieve the highest possible accuracy on `X_val` by changing the network hyperparameters. **Important: To make your code run faster, you should train all of your networks in this problem on only the first 10,000 images of `X_tr`**. This was already set up for you in Problem 2.3.\n",
    "\n",
    "To receive full credit for this problem, you will need to tune your network hyperparameters until you achieve an error rate smaller than 5% on the validation data. However, tuning neural networks can be a difficult task, and you may not be able to achieve this target error rate. Hence, you will receive most of the credit for this problem as long as you train at least ten different neural networks with different settings of the hyperparameters.\n",
    "\n",
    "In your answer, include a table listing the different hyperparameters that you tried, along with the resulting accuracy on the training and validation sets `X_tr` and `X_val`. Indicate which of these hyperparameter settings you would choose for your final model, and report the accuracy of this final model on the testing set `X_te`."
   ]
  },
  {
   "cell_type": "code",
   "execution_count": 12,
   "id": "fd36ed2b",
   "metadata": {
    "colab": {
     "base_uri": "https://localhost:8080/"
    },
    "executionInfo": {
     "elapsed": 252598,
     "status": "ok",
     "timestamp": 1667469827315,
     "user": {
      "displayName": "Ryan Dong",
      "userId": "17609838347163999970"
     },
     "user_tz": 420
    },
    "id": "fd36ed2b",
    "outputId": "c4e2cdec-9ed7-462f-8170-48ff01c76262"
   },
   "outputs": [
    {
     "name": "stdout",
     "output_type": "stream",
     "text": [
      "solver, learning rate, alpha, batch_size, hidden_layer_size\n",
      "NN ('adam', 0.001, 0.0001, 256, 64) have accuracy 0.945600\n",
      "NN ('adam', 0.001, 0.0001, 256, 128) have accuracy 0.947300\n",
      "NN ('adam', 0.001, 0.0001, 512, 64) have accuracy 0.943000\n",
      "NN ('adam', 0.001, 0.0001, 512, 128) have accuracy 0.946000\n",
      "NN ('adam', 0.001, 0.001, 256, 64) have accuracy 0.946100\n",
      "NN ('adam', 0.001, 0.001, 256, 128) have accuracy 0.948100\n",
      "NN ('adam', 0.001, 0.001, 512, 64) have accuracy 0.943600\n",
      "NN ('adam', 0.001, 0.001, 512, 128) have accuracy 0.946700\n",
      "NN ('adam', 0.001, 0.01, 256, 64) have accuracy 0.947700\n",
      "NN ('adam', 0.001, 0.01, 256, 128) have accuracy 0.950400\n",
      "best parameter set is solver=adam, lr=0.001000, alpha=0.010000, batch_size=256, hidden_layer_size=128\n",
      "best accuray is 0.9504\n",
      "\n",
      "final accuracy on the testing data = 0.947\n"
     ]
    }
   ],
   "source": [
    "import itertools\n",
    "\n",
    "lrs = [0.001, 0.005, 0.01]\n",
    "alphas = [0.0001, 0.001, 0.01]\n",
    "solvers = [\"adam\", \"sgd\"]\n",
    "batch_sizes = [256, 512]\n",
    "hidden_layer_sizes = [64, 128]\n",
    "\n",
    "best_score = 0\n",
    "best_param = None\n",
    "\n",
    "print(\"solver, learning rate, alpha, batch_size, hidden_layer_size\")\n",
    "\n",
    "combinations = itertools.product(solvers, lrs, alphas, \n",
    "                                 batch_sizes, hidden_layer_sizes)\n",
    "for (solver, lr, alpha, batch_size, hidden_layer_size) in combinations:\n",
    "    mlp = MLPClassifier(hidden_layer_sizes=(hidden_layer_size,), \n",
    "                        activation=\"relu\", solver=solver, alpha=alpha, \n",
    "                        learning_rate_init=lr, batch_size=batch_size, \n",
    "                        random_state=seed).fit(X_tr, y_tr)\n",
    "    score = accuracy_score(y_val, mlp.predict(X_val))\n",
    "    print(\"NN %s have accuracy %f\" % ((solver, lr, alpha, batch_size, \n",
    "                                       hidden_layer_size), score))\n",
    "\n",
    "    if score > best_score:\n",
    "        best_param = (solver, lr, alpha, batch_size, hidden_layer_size)\n",
    "        best_score = score\n",
    "    if score > 0.95:\n",
    "      break\n",
    "\n",
    "solver, lr, alpha, batch_size, hidden_layer_size = best_param\n",
    "print(\"best parameter set is solver=%s, lr=%f, alpha=%f, \\\n",
    "        batch_size=%d, hidden_layer_size=%d\" % \n",
    "      (solver, lr, alpha, batch_size, hidden_layer_size))\n",
    "print(\"best accuray is\", best_score)\n",
    "print()\n",
    "\n",
    "mlp = MLPClassifier(hidden_layer_sizes=(hidden_layer_size,), \n",
    "                    activation=\"relu\", solver=solver, alpha=alpha, \n",
    "                    learning_rate_init=lr, batch_size=batch_size, \n",
    "                    random_state=seed).fit(X_tr, y_tr)\n",
    "final = accuracy_score(y_te, mlp.predict(X_te))\n",
    "print(\"final accuracy on the testing data =\", final)"
   ]
  },
  {
   "cell_type": "markdown",
   "id": "4a052765",
   "metadata": {
    "id": "4a052765"
   },
   "source": [
    "---\n",
    "### Statement of Collaboration (5 points)\n",
    "\n",
    "It is **mandatory** to include a Statement of Collaboration in each submission, with respect to the guidelines below. Include the names of everyone involved in the discussions (especially in-person ones), and what was discussed. If you did not collaborate with anyone, you should write something like \"I completed this assignment without any collaboration.\"\n",
    "\n",
    "All students are required to follow the academic honesty guidelines posted on the course website. For\n",
    "programming assignments, in particular, I encourage the students to organize (perhaps using EdD) to\n",
    "discuss the task descriptions, requirements, bugs in my code, and the relevant technical content before they start\n",
    "working on it. However, you should not discuss the specific solutions, and, as a guiding principle, you are not\n",
    "allowed to take anything written or drawn away from these discussions (i.e. no photographs of the blackboard,\n",
    "written notes, referring to EdD, etc.). Especially after you have started working on the assignment, try\n",
    "to restrict the discussion to EdD as much as possible, so that there is no doubt as to the extent of your\n",
    "collaboration."
   ]
  },
  {
   "cell_type": "markdown",
   "id": "Zd_l5E1lw6-t",
   "metadata": {
    "id": "Zd_l5E1lw6-t"
   },
   "source": [
    "I completed this assignment without any collaboration."
   ]
  }
 ],
 "metadata": {
  "colab": {
   "collapsed_sections": [],
   "provenance": []
  },
  "kernelspec": {
   "display_name": "Python 3 (ipykernel)",
   "language": "python",
   "name": "python3"
  },
  "language_info": {
   "codemirror_mode": {
    "name": "ipython",
    "version": 3
   },
   "file_extension": ".py",
   "mimetype": "text/x-python",
   "name": "python",
   "nbconvert_exporter": "python",
   "pygments_lexer": "ipython3",
   "version": "3.10.6"
  },
  "vscode": {
   "interpreter": {
    "hash": "aee8b7b246df8f9039afb4144a1f6fd8d2ca17a180786b69acc140d282b71a49"
   }
  }
 },
 "nbformat": 4,
 "nbformat_minor": 5
}
